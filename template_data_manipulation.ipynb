{
  "cells": [
    {
      "cell_type": "markdown",
      "id": "325b18c8",
      "metadata": {
        "id": "325b18c8"
      },
      "source": [
        "# Jawablah poin-poin assignment berikut\n",
        "#### perhatikan dengan baik apa yang diminta pada soal"
      ]
    },
    {
      "cell_type": "markdown",
      "id": "9e50f027",
      "metadata": {
        "id": "9e50f027"
      },
      "source": [
        "# 1. Anda bekerja sebagai seorang data scientist, atasan anda mengirimkan anda data kepada anda dan meminta untuk memberikan analisa dengan menggunakan semua metode pada data manipulation berikut :\n",
        "- a. Filtering\n",
        "- b. Sorting\n",
        "- c. Grouping / Aggregasi\n",
        "- d. Join / Merging\n",
        "- e. Pivot\n",
        "- f. Crosstab\n",
        "- g. Appending\n",
        "- h. Mengeksplor terkait dengan operasi pada Datetime (week, day, dan sebagainya)\n",
        "### Notes : Sebelum menjawab permintaan diatas, pertama-tama awali dengan mengajukan pertanyaan analisa terlebih dahulu dan tulis insight dari yang anda dapat, **pertanyaan analisa dilakukan pada semua metode data manipulation diatas**"
      ]
    },
    {
      "cell_type": "code",
      "execution_count": null,
      "id": "6486a14b",
      "metadata": {
        "id": "6486a14b"
      },
      "outputs": [],
      "source": []
    },
    {
      "cell_type": "markdown",
      "id": "05f7a841",
      "metadata": {
        "id": "05f7a841"
      },
      "source": [
        "# 2. Standar Scaller for Exploratory Data Analysis ?\n",
        "`clue` : lakukan tanpa splitting dataset ke train dan test\n",
        "- lakukan pada kolom Total, Unit Price, dan tambahkan 2 kolom lainnya\n",
        "- dan tulis insight dari yang anda dapat dari grafik tersebut"
      ]
    },
    {
      "cell_type": "code",
      "execution_count": null,
      "id": "a82e24b6",
      "metadata": {
        "id": "a82e24b6"
      },
      "outputs": [],
      "source": []
    },
    {
      "cell_type": "markdown",
      "id": "f559ca51",
      "metadata": {
        "id": "f559ca51"
      },
      "source": [
        "# 3. MinMax Scaller for Exploratory Data Analysis ?\n",
        "`clue` : lakukan tanpa splitting dataset ke train dan test\n",
        "- lakukan pada kolom Total, Unit Price, dan tambahkan 2 kolom lainnya\n",
        "- dan tulis insight dari yang anda dapat dari grafik tersebut"
      ]
    },
    {
      "cell_type": "code",
      "execution_count": null,
      "id": "c1e9b019",
      "metadata": {
        "id": "c1e9b019"
      },
      "outputs": [],
      "source": []
    },
    {
      "cell_type": "code",
      "execution_count": null,
      "id": "05ecbbc6",
      "metadata": {
        "id": "05ecbbc6"
      },
      "outputs": [],
      "source": []
    }
  ],
  "metadata": {
    "kernelspec": {
      "display_name": "Python 3 (ipykernel)",
      "language": "python",
      "name": "python3"
    },
    "language_info": {
      "codemirror_mode": {
        "name": "ipython",
        "version": 3
      },
      "file_extension": ".py",
      "mimetype": "text/x-python",
      "name": "python",
      "nbconvert_exporter": "python",
      "pygments_lexer": "ipython3",
      "version": "3.11.4"
    },
    "colab": {
      "provenance": []
    }
  },
  "nbformat": 4,
  "nbformat_minor": 5
}